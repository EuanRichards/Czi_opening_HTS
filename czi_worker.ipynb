{
 "cells": [
  {
   "cell_type": "code",
   "execution_count": null,
   "metadata": {},
   "outputs": [],
   "source": [
    "import numpy as np\n",
    "import glob\n",
    "import os\n",
    "\n",
    "from aicsimageio.readers.czi_reader import CziReader\n",
    "from aicsimageio.writers.ome_tiff_writer import OmeTiffWriter"
   ]
  },
  {
   "cell_type": "code",
   "execution_count": null,
   "metadata": {},
   "outputs": [],
   "source": [
    "# Get a list of all .czi files in the directory - insert your path here\n",
    "path = ''\n",
    "glob_files = glob.glob(f'{path}/*.czi')\n",
    "files = []\n",
    "for file in glob_files:\n",
    "    f = file.split('/')\n",
    "    files.append(f[-1])\n",
    "print(f'Cell image files to open: {files}')"
   ]
  },
  {
   "cell_type": "code",
   "execution_count": null,
   "metadata": {},
   "outputs": [],
   "source": [
    "# Itterate through the files and extract channels. Save each as a unique ome.tiff within a channel based folder structure.\n",
    "for file in files:\n",
    "    path = f'{path}/{file}'\n",
    "    czi = CziReader(path)\n",
    "    #print metadata of the channel names for correct ordering \n",
    "    print(czi.channel_names)\n",
    "    channel_names = czi.channel_names\n",
    "    #print metadata of the image dimensions for correct processing in CP.\n",
    "    print(czi.shape)\n",
    "    channels = czi.shape\n",
    "    #get number of channels\n",
    "    channels = channels[2]\n",
    "    channels = range(channels)\n",
    "\n",
    "    #note I extract the plate number from the file name here - you will have a differant structure so change accordingly\n",
    "    plate_number = file.split('_')\n",
    "    plate_number = plate_number[1]\n",
    "    plate_number = plate_number.split('-')\n",
    "    plate_number = plate_number[0]\n",
    "    print(f'plate number {plate_number}')\n",
    "\n",
    "    #create directory structure for saving\n",
    "    os.mkdir(f'{path}/Plates/plate_{plate_number}')\n",
    "    for chan in channels:\n",
    "            os.mkdir(f'{path}/Plates/plate_{plate_number}/Channel_{chan}')\n",
    "\n",
    "    #itterate through scenes and channels saving each as ome.tiff\n",
    "    for index in range(len(czi.scenes)):\n",
    "        czi.set_scene(index)\n",
    "        img = czi.get_image_data()\n",
    "        img = img[0][0]\n",
    "        scene = czi.scenes[index]\n",
    "        scene = scene.split('-')\n",
    "        position = scene[0]\n",
    "        well = scene[1]\n",
    "        #save the image, extracting metadata from the scene and inputting as the file name\n",
    "        for chan in channels:\n",
    "            OmeTiffWriter.save(img[chan], f'{path}/Plates/plate_{plate_number}/Channel_{chan}/imageset-{index}_channel-{chan}-channelname-{channel_names[chan]}_well-{well}_FOV-{position}_plate-{plate_number}.ome.tiff')\n"
   ]
  },
  {
   "cell_type": "markdown",
   "metadata": {},
   "source": [
    "Some metadata calls the the czi"
   ]
  },
  {
   "cell_type": "code",
   "execution_count": null,
   "metadata": {},
   "outputs": [],
   "source": [
    "print(czi.shape)\n",
    "print(czi.dims)\n",
    "print(czi.scenes)\n",
    "print(czi.ome_metadata)\n",
    "print(czi.channel_names)"
   ]
  },
  {
   "cell_type": "markdown",
   "metadata": {},
   "source": [
    "(1, 1, 5, 1, 3007, 4088)\n",
    "<Dimensions [H: 1, T: 1, C: 5, Z: 1, Y: 3007, X: 4088]>\n",
    "('P1-C3', 'P2-C3', 'P3-C3', 'P4-C3', 'P5-C3', 'P6-C3', 'P7-C3', 'P8-C3', 'P9-C3', 'P1-C4', 'P2-C4', 'P3-C4', 'P4-C4', 'P5-C4', 'P6-C4', 'P7-C4', 'P8-C4', 'P9-C4', 'P1-C5', 'P2-C5', 'P3-C5', 'P4-C5', 'P5-C5', 'P6-C5', 'P7-C5', 'P8-C5', 'P9-C5', 'P1-C6', 'P2-C6', 'P3-C6', 'P4-C6', 'P5-C6', 'P6-C6', 'P7-C6', 'P8-C6', 'P9-C6', 'P1-C7', 'P2-C7', 'P3-C7', 'P4-C7', 'P5-C7', 'P6-C7', 'P7-C7', 'P8-C7', 'P9-C7', 'P1-C8', 'P2-C8', 'P3-C8', 'P4-C8', 'P5-C8', 'P6-C8', 'P7-C8', 'P8-C8', 'P9-C8', 'P1-C9', 'P2-C9', 'P3-C9', 'P4-C9', 'P5-C9', 'P6-C9', 'P7-C9', 'P8-C9', 'P9-C9', 'P1-C10', 'P2-C10', 'P3-C10', 'P4-C10', 'P5-C10', 'P6-C10', 'P7-C10', 'P8-C10', 'P9-C10', 'P1-C11', 'P2-C11', 'P3-C11', 'P4-C11', 'P5-C11', 'P6-C11', 'P7-C11', 'P8-C11', 'P9-C11', 'P1-C12', 'P2-C12', 'P3-C12', 'P4-C12', 'P5-C12', 'P6-C12', 'P7-C12', 'P8-C12', 'P9-C12', 'P1-C13', 'P2-C13', 'P3-C13', 'P4-C13', 'P5-C13', 'P6-C13', 'P7-C13', 'P8-C13', 'P9-C13', 'P1-C14', 'P2-C14', 'P3-C14', 'P4-C14', 'P5-C14', 'P6-C14', 'P7-C14', 'P8-C14', 'P9-C14', 'P1-C15', 'P2-C15', 'P3-C15', 'P4-C15', 'P5-C15', 'P6-C15', 'P7-C15', 'P8-C15', 'P9-C15', 'P1-C16', 'P2-C16', 'P3-C16', 'P4-C16', 'P5-C16', 'P6-C16', 'P7-C16', 'P8-C16', 'P9-C16', 'P1-C17', 'P2-C17', 'P3-C17', 'P4-C17', 'P5-C17', 'P6-C17', 'P7-C17', 'P8-C17', 'P9-C17', 'P1-C18', 'P2-C18', 'P3-C18', 'P4-C18', 'P5-C18', 'P6-C18', 'P7-C18', 'P8-C18', 'P9-C18', 'P1-C19', 'P2-C19', 'P3-C19', 'P4-C19', 'P5-C19', 'P6-C19', 'P7-C19', 'P8-C19', 'P9-C19', 'P1-C20', 'P2-C20', 'P3-C20', 'P4-C20', 'P5-C20', 'P6-C20', 'P7-C20', 'P8-C20', 'P9-C20', 'P1-C21', 'P2-C21', 'P3-C21', 'P4-C21', 'P5-C21', 'P6-C21', 'P7-C21', 'P8-C21', 'P9-C21', 'P1-C22', 'P2-C22', 'P3-C22', 'P4-C22', 'P5-C22', 'P6-C22', 'P7-C22', 'P8-C22', 'P9-C22', 'P1-D22', 'P2-D22', 'P3-D22', 'P4-D22', 'P5-D22', 'P6-D22', 'P7-D22', 'P8-D22', 'P9-D22', 'P1-D21', 'P2-D21', 'P3-D21', 'P4-D21', 'P5-D21', 'P6-D21', 'P7-D21', 'P8-D21', 'P9-D21', 'P1-D20', 'P2-D20', 'P3-D20', 'P4-D20', 'P5-D20', 'P6-D20', 'P7-D20', 'P8-D20', 'P9-D20', 'P1-D19', 'P2-D19', 'P3-D19', 'P4-D19', 'P5-D19', 'P6-D19', 'P7-D19', 'P8-D19', 'P9-D19', 'P1-D18', 'P2-D18', 'P3-D18', 'P4-D18', 'P5-D18', 'P6-D18', 'P7-D18', 'P8-D18', 'P9-D18', 'P1-D17', 'P2-D17', 'P3-D17', 'P4-D17', 'P5-D17', 'P6-D17', 'P7-D17', 'P8-D17', 'P9-D17', 'P1-D16', 'P2-D16', 'P3-D16', 'P4-D16', 'P5-D16', 'P6-D16', 'P7-D16', 'P8-D16', 'P9-D16', 'P1-D15', 'P2-D15', 'P3-D15', 'P4-D15', 'P5-D15', 'P6-D15', 'P7-D15', 'P8-D15', 'P9-D15', 'P1-D14', 'P2-D14', 'P3-D14', 'P4-D14', 'P5-D14', 'P6-D14', 'P7-D14', 'P8-D14', 'P9-D14', 'P1-D13', 'P2-D13', 'P3-D13', 'P4-D13', 'P5-D13', 'P6-D13', 'P7-D13', 'P8-D13', 'P9-D13', 'P1-D12', 'P2-D12', 'P3-D12', 'P4-D12', 'P5-D12', 'P6-D12', 'P7-D12', 'P8-D12', 'P9-D12', 'P1-D11', 'P2-D11', 'P3-D11', 'P4-D11', 'P5-D11', 'P6-D11', 'P7-D11', 'P8-D11', 'P9-D11', 'P1-D10', 'P2-D10', 'P3-D10', 'P4-D10', 'P5-D10', 'P6-D10', 'P7-D10', 'P8-D10', 'P9-D10', 'P1-D9', 'P2-D9', 'P3-D9', 'P4-D9', 'P5-D9', 'P6-D9', 'P7-D9', 'P8-D9', 'P9-D9', 'P1-D8', 'P2-D8', 'P3-D8', 'P4-D8', 'P5-D8', 'P6-D8', 'P7-D8', 'P8-D8', 'P9-D8', 'P1-D7', 'P2-D7', 'P3-D7', 'P4-D7', 'P5-D7', 'P6-D7', 'P7-D7', 'P8-D7', 'P9-D7', 'P1-D6', 'P2-D6', 'P3-D6', 'P4-D6', 'P5-D6', 'P6-D6', 'P7-D6', 'P8-D6', 'P9-D6', 'P1-D5', 'P2-D5', 'P3-D5', 'P4-D5', 'P5-D5', 'P6-D5', 'P7-D5', 'P8-D5', 'P9-D5', 'P1-D4', 'P2-D4', 'P3-D4', 'P4-D4', 'P5-D4', 'P6-D4', 'P7-D4', 'P8-D4', 'P9-D4', 'P1-D3', 'P2-D3', 'P3-D3', 'P4-D3', 'P5-D3', 'P6-D3', 'P7-D3', 'P8-D3', 'P9-D3', 'P1-E3', 'P2-E3', 'P3-E3', 'P4-E3', 'P5-E3', 'P6-E3', 'P7-E3', 'P8-E3', 'P9-E3', 'P1-E4', 'P2-E4', 'P3-E4', 'P4-E4', 'P5-E4', 'P6-E4', 'P7-E4', 'P8-E4', 'P9-E4', 'P1-E5', 'P2-E5', 'P3-E5', 'P4-E5', 'P5-E5', 'P6-E5', 'P7-E5', 'P8-E5', 'P9-E5', 'P1-E6', 'P2-E6', 'P3-E6', 'P4-E6', 'P5-E6', 'P6-E6', 'P7-E6', 'P8-E6', 'P9-E6', 'P1-E7', 'P2-E7', 'P3-E7', 'P4-E7', 'P5-E7', 'P6-E7', 'P7-E7', 'P8-E7', 'P9-E7', 'P1-E8', 'P2-E8', 'P3-E8', 'P4-E8', 'P5-E8', 'P6-E8', 'P7-E8', 'P8-E8', 'P9-E8', 'P1-E9', 'P2-E9', 'P3-E9', 'P4-E9', 'P5-E9', 'P6-E9', 'P7-E9', 'P8-E9', 'P9-E9', 'P1-E10', 'P2-E10', 'P3-E10', 'P4-E10', 'P5-E10', 'P6-E10', 'P7-E10', 'P8-E10', 'P9-E10', 'P1-E11', 'P2-E11', 'P3-E11', 'P4-E11', 'P5-E11', 'P6-E11', 'P7-E11', 'P8-E11', 'P9-E11', 'P1-E12', 'P2-E12', 'P3-E12', 'P4-E12', 'P5-E12', 'P6-E12', 'P7-E12', 'P8-E12', 'P9-E12', 'P1-E13', 'P2-E13', 'P3-E13', 'P4-E13', 'P5-E13', 'P6-E13', 'P7-E13', 'P8-E13', 'P9-E13', 'P1-E14', 'P2-E14', 'P3-E14', 'P4-E14', 'P5-E14', 'P6-E14', 'P7-E14', 'P8-E14', 'P9-E14', 'P1-E15', 'P2-E15', 'P3-E15', 'P4-E15', 'P5-E15', 'P6-E15', 'P7-E15', 'P8-E15', 'P9-E15', 'P1-E16', 'P2-E16', 'P3-E16', 'P4-E16', 'P5-E16', 'P6-E16', 'P7-E16', 'P8-E16', 'P9-E16', 'P1-E17', 'P2-E17', 'P3-E17', 'P4-E17', 'P5-E17', 'P6-E17', 'P7-E17', 'P8-E17', 'P9-E17', 'P1-E18', 'P2-E18', 'P3-E18', 'P4-E18', 'P5-E18', 'P6-E18', 'P7-E18', 'P8-E18', 'P9-E18', 'P1-E19', 'P2-E19', 'P3-E19', 'P4-E19', 'P5-E19', 'P6-E19', 'P7-E19', 'P8-E19', 'P9-E19', 'P1-E20', 'P2-E20', 'P3-E20', 'P4-E20', 'P5-E20', 'P6-E20', 'P7-E20', 'P8-E20', 'P9-E20', 'P1-E21', 'P2-E21', 'P3-E21', 'P4-E21', 'P5-E21', 'P6-E21', 'P7-E21', 'P8-E21', 'P9-E21', 'P1-E22', 'P2-E22', 'P3-E22', 'P4-E22', 'P5-E22', 'P6-E22', 'P7-E22', 'P8-E22', 'P9-E22', 'P1-F22', 'P2-F22', 'P3-F22', 'P4-F22', 'P5-F22', 'P6-F22', 'P7-F22', 'P8-F22', 'P9-F22', 'P1-F21', 'P2-F21', 'P3-F21', 'P4-F21', 'P5-F21', 'P6-F21', 'P7-F21', 'P8-F21', 'P9-F21', 'P1-F20', 'P2-F20', 'P3-F20', 'P4-F20', 'P5-F20', 'P6-F20', 'P7-F20', 'P8-F20', 'P9-F20', 'P1-F19', 'P2-F19', 'P3-F19', 'P4-F19', 'P5-F19', 'P6-F19', 'P7-F19', 'P8-F19', 'P9-F19', 'P1-F18', 'P2-F18', 'P3-F18', 'P4-F18', 'P5-F18', 'P6-F18', 'P7-F18', 'P8-F18', 'P9-F18', 'P1-F17', 'P2-F17', 'P3-F17', 'P4-F17', 'P5-F17', 'P6-F17', 'P7-F17', 'P8-F17', 'P9-F17', 'P1-F16', 'P2-F16', 'P3-F16', 'P4-F16', 'P5-F16', 'P6-F16', 'P7-F16', 'P8-F16', 'P9-F16', 'P1-F15', 'P2-F15', 'P3-F15', 'P4-F15', 'P5-F15', 'P6-F15', 'P7-F15', 'P8-F15', 'P9-F15', 'P1-F14', 'P2-F14', 'P3-F14', 'P4-F14', 'P5-F14', 'P6-F14', 'P7-F14', 'P8-F14', 'P9-F14', 'P1-F13', 'P2-F13', 'P3-F13', 'P4-F13', 'P5-F13', 'P6-F13', 'P7-F13', 'P8-F13', 'P9-F13', 'P1-F12', 'P2-F12', 'P3-F12', 'P4-F12', 'P5-F12', 'P6-F12', 'P7-F12', 'P8-F12', 'P9-F12', 'P1-F11', 'P2-F11', 'P3-F11', 'P4-F11', 'P5-F11', 'P6-F11', 'P7-F11', 'P8-F11', 'P9-F11', 'P1-F10', 'P2-F10', 'P3-F10', 'P4-F10', 'P5-F10', 'P6-F10', 'P7-F10', 'P8-F10', 'P9-F10', 'P1-F9', 'P2-F9', 'P3-F9', 'P4-F9', 'P5-F9', 'P6-F9', 'P7-F9', 'P8-F9', 'P9-F9', 'P1-F8', 'P2-F8', 'P3-F8', 'P4-F8', 'P5-F8', 'P6-F8', 'P7-F8', 'P8-F8', 'P9-F8', 'P1-F7', 'P2-F7', 'P3-F7', 'P4-F7', 'P5-F7', 'P6-F7', 'P7-F7', 'P8-F7', 'P9-F7', 'P1-F6', 'P2-F6', 'P3-F6', 'P4-F6', 'P5-F6', 'P6-F6', 'P7-F6', 'P8-F6', 'P9-F6', 'P1-F5', 'P2-F5', 'P3-F5', 'P4-F5', 'P5-F5', 'P6-F5', 'P7-F5', 'P8-F5', 'P9-F5', 'P1-F4', 'P2-F4', 'P3-F4', 'P4-F4', 'P5-F4', 'P6-F4', 'P7-F4', 'P8-F4', 'P9-F4', 'P1-F3', 'P2-F3', 'P3-F3', 'P4-F3', 'P5-F3', 'P6-F3', 'P7-F3', 'P8-F3', 'P9-F3', 'P1-G3', 'P2-G3', 'P3-G3', 'P4-G3', 'P5-G3', 'P6-G3', 'P7-G3', 'P8-G3', 'P9-G3', 'P1-G4', 'P2-G4', 'P3-G4', 'P4-G4', 'P5-G4', 'P6-G4', 'P7-G4', 'P8-G4', 'P9-G4', 'P1-G5', 'P2-G5', 'P3-G5', 'P4-G5', 'P5-G5', 'P6-G5', 'P7-G5', 'P8-G5', 'P9-G5', 'P1-G6', 'P2-G6', 'P3-G6', 'P4-G6', 'P5-G6', 'P6-G6', 'P7-G6', 'P8-G6', 'P9-G6', 'P1-G7', 'P2-G7', 'P3-G7', 'P4-G7', 'P5-G7', 'P6-G7', 'P7-G7', 'P8-G7', 'P9-G7', 'P1-G8', 'P2-G8', 'P3-G8', 'P4-G8', 'P5-G8', 'P6-G8', 'P7-G8', 'P8-G8', 'P9-G8', 'P1-G9', 'P2-G9', 'P3-G9', 'P4-G9', 'P5-G9', 'P6-G9', 'P7-G9', 'P8-G9', 'P9-G9', 'P1-G10', 'P2-G10', 'P3-G10', 'P4-G10', 'P5-G10', 'P6-G10', 'P7-G10', 'P8-G10', 'P9-G10', 'P1-G11', 'P2-G11', 'P3-G11', 'P4-G11', 'P5-G11', 'P6-G11', 'P7-G11', 'P8-G11', 'P9-G11', 'P1-G12', 'P2-G12', 'P3-G12', 'P4-G12', 'P5-G12', 'P6-G12', 'P7-G12', 'P8-G12', 'P9-G12', 'P1-G13', 'P2-G13', 'P3-G13', 'P4-G13', 'P5-G13', 'P6-G13', 'P7-G13', 'P8-G13', 'P9-G13', 'P1-G14', 'P2-G14', 'P3-G14', 'P4-G14', 'P5-G14', 'P6-G14', 'P7-G14', 'P8-G14', 'P9-G14', 'P1-G15', 'P2-G15', 'P3-G15', 'P4-G15', 'P5-G15', 'P6-G15', 'P7-G15', 'P8-G15', 'P9-G15', 'P1-G16', 'P2-G16', 'P3-G16', 'P4-G16', 'P5-G16', 'P6-G16', 'P7-G16', 'P8-G16', 'P9-G16', 'P1-G17', 'P2-G17', 'P3-G17', 'P4-G17', 'P5-G17', 'P6-G17', 'P7-G17', 'P8-G17', 'P9-G17', 'P1-G18', 'P2-G18', 'P3-G18', 'P4-G18', 'P5-G18', 'P6-G18', 'P7-G18', 'P8-G18', 'P9-G18', 'P1-G19', 'P2-G19', 'P3-G19', 'P4-G19', 'P5-G19', 'P6-G19', 'P7-G19', 'P8-G19', 'P9-G19', 'P1-G20', 'P2-G20', 'P3-G20', 'P4-G20', 'P5-G20', 'P6-G20', 'P7-G20', 'P8-G20', 'P9-G20', 'P1-G21', 'P2-G21', 'P3-G21', 'P4-G21', 'P5-G21', 'P6-G21', 'P7-G21', 'P8-G21', 'P9-G21', 'P1-G22', 'P2-G22', 'P3-G22', 'P4-G22', 'P5-G22', 'P6-G22', 'P7-G22', 'P8-G22', 'P9-G22', 'P1-H22', 'P2-H22', 'P3-H22', 'P4-H22', 'P5-H22', 'P6-H22', 'P7-H22', 'P8-H22', 'P9-H22', 'P1-H21', 'P2-H21', 'P3-H21', 'P4-H21', 'P5-H21', 'P6-H21', 'P7-H21', 'P8-H21', 'P9-H21', 'P1-H20', 'P2-H20', 'P3-H20', 'P4-H20', 'P5-H20', 'P6-H20', 'P7-H20', 'P8-H20', 'P9-H20', 'P1-H19', 'P2-H19', 'P3-H19', 'P4-H19', 'P5-H19', 'P6-H19', 'P7-H19', 'P8-H19', 'P9-H19', 'P1-H18', 'P2-H18', 'P3-H18', 'P4-H18', 'P5-H18', 'P6-H18', 'P7-H18', 'P8-H18', 'P9-H18', 'P1-H17', 'P2-H17', 'P3-H17', 'P4-H17', 'P5-H17', 'P6-H17', 'P7-H17', 'P8-H17', 'P9-H17', 'P1-H16', 'P2-H16', 'P3-H16', 'P4-H16', 'P5-H16', 'P6-H16', 'P7-H16', 'P8-H16', 'P9-H16', 'P1-H15', 'P2-H15', 'P3-H15', 'P4-H15', 'P5-H15', 'P6-H15', 'P7-H15', 'P8-H15', 'P9-H15', 'P1-H14', 'P2-H14', 'P3-H14', 'P4-H14', 'P5-H14', 'P6-H14', 'P7-H14', 'P8-H14', 'P9-H14', 'P1-H13', 'P2-H13', 'P3-H13', 'P4-H13', 'P5-H13', 'P6-H13', 'P7-H13', 'P8-H13', 'P9-H13', 'P1-H12', 'P2-H12', 'P3-H12', 'P4-H12', 'P5-H12', 'P6-H12', 'P7-H12', 'P8-H12', 'P9-H12', 'P1-H11', 'P2-H11', 'P3-H11', 'P4-H11', 'P5-H11', 'P6-H11', 'P7-H11', 'P8-H11', 'P9-H11', 'P1-H10', 'P2-H10', 'P3-H10', 'P4-H10', 'P5-H10', 'P6-H10', 'P7-H10', 'P8-H10', 'P9-H10', 'P1-H9', 'P2-H9', 'P3-H9', 'P4-H9', 'P5-H9', 'P6-H9', 'P7-H9', 'P8-H9', 'P9-H9', 'P1-H8', 'P2-H8', 'P3-H8', 'P4-H8', 'P5-H8', 'P6-H8', 'P7-H8', 'P8-H8', 'P9-H8', 'P1-H7', 'P2-H7', 'P3-H7', 'P4-H7', 'P5-H7', 'P6-H7', 'P7-H7', 'P8-H7', 'P9-H7', 'P1-H6', 'P2-H6', 'P3-H6', 'P4-H6', 'P5-H6', 'P6-H6', 'P7-H6', 'P8-H6', 'P9-H6', 'P1-H5', 'P2-H5', 'P3-H5', 'P4-H5', 'P5-H5', 'P6-H5', 'P7-H5', 'P8-H5', 'P9-H5', 'P1-H4', 'P2-H4', 'P3-H4', 'P4-H4', 'P5-H4', 'P6-H4', 'P7-H4', 'P8-H4', 'P9-H4', 'P1-H3', 'P2-H3', 'P3-H3', 'P4-H3', 'P5-H3', 'P6-H3', 'P7-H3', 'P8-H3', 'P9-H3', 'P1-I3', 'P2-I3', 'P3-I3', 'P4-I3', 'P5-I3', 'P6-I3', 'P7-I3', 'P8-I3', 'P9-I3', 'P1-I4', 'P2-I4', 'P3-I4', 'P4-I4', 'P5-I4', 'P6-I4', 'P7-I4', 'P8-I4', 'P9-I4', 'P1-I5', 'P2-I5', 'P3-I5', 'P4-I5', 'P5-I5', 'P6-I5', 'P7-I5', 'P8-I5', 'P9-I5', 'P1-I6', 'P2-I6', 'P3-I6', 'P4-I6', 'P5-I6', 'P6-I6', 'P7-I6', 'P8-I6', 'P9-I6', 'P1-I7', 'P2-I7', 'P3-I7', 'P4-I7', 'P5-I7', 'P6-I7', 'P7-I7', 'P8-I7', 'P9-I7', 'P1-I8', 'P2-I8', 'P3-I8', 'P4-I8', 'P5-I8', 'P6-I8', 'P7-I8', 'P8-I8', 'P9-I8', 'P1-I9', 'P2-I9', 'P3-I9', 'P4-I9', 'P5-I9', 'P6-I9', 'P7-I9', 'P8-I9', 'P9-I9', 'P1-I10', 'P2-I10', 'P3-I10', 'P4-I10', 'P5-I10', 'P6-I10', 'P7-I10', 'P8-I10', 'P9-I10', 'P1-I11', 'P2-I11', 'P3-I11', 'P4-I11', 'P5-I11', 'P6-I11', 'P7-I11', 'P8-I11', 'P9-I11', 'P1-I12', 'P2-I12', 'P3-I12', 'P4-I12', 'P5-I12', 'P6-I12', 'P7-I12', 'P8-I12', 'P9-I12', 'P1-I13', 'P2-I13', 'P3-I13', 'P4-I13', 'P5-I13', 'P6-I13', 'P7-I13', 'P8-I13', 'P9-I13', 'P1-I14', 'P2-I14', 'P3-I14', 'P4-I14', 'P5-I14', 'P6-I14', 'P7-I14', 'P8-I14', 'P9-I14', 'P1-I15', 'P2-I15', 'P3-I15', 'P4-I15', 'P5-I15', 'P6-I15', 'P7-I15', 'P8-I15', 'P9-I15', 'P1-I16', 'P2-I16', 'P3-I16', 'P4-I16', 'P5-I16', 'P6-I16', 'P7-I16', 'P8-I16', 'P9-I16', 'P1-I17', 'P2-I17', 'P3-I17', 'P4-I17', 'P5-I17', 'P6-I17', 'P7-I17', 'P8-I17', 'P9-I17', 'P1-I18', 'P2-I18', 'P3-I18', 'P4-I18', 'P5-I18', 'P6-I18', 'P7-I18', 'P8-I18', 'P9-I18', 'P1-I19', 'P2-I19', 'P3-I19', 'P4-I19', 'P5-I19', 'P6-I19', 'P7-I19', 'P8-I19', 'P9-I19', 'P1-I20', 'P2-I20', 'P3-I20', 'P4-I20', 'P5-I20', 'P6-I20', 'P7-I20', 'P8-I20', 'P9-I20', 'P1-I21', 'P2-I21', 'P3-I21', 'P4-I21', 'P5-I21', 'P6-I21', 'P7-I21', 'P8-I21', 'P9-I21', 'P1-I22', 'P2-I22', 'P3-I22', 'P4-I22', 'P5-I22', 'P6-I22', 'P7-I22', 'P8-I22', 'P9-I22', 'P1-J22', 'P2-J22', 'P3-J22', 'P4-J22', 'P5-J22', 'P6-J22', 'P7-J22', 'P8-J22', 'P9-J22', 'P1-J21', 'P2-J21', 'P3-J21', 'P4-J21', 'P5-J21', 'P6-J21', 'P7-J21', 'P8-J21', 'P9-J21', 'P1-J20', 'P2-J20', 'P3-J20', 'P4-J20', 'P5-J20', 'P6-J20', 'P7-J20', 'P8-J20', 'P9-J20', 'P1-J19', 'P2-J19', 'P3-J19', 'P4-J19', 'P5-J19', 'P6-J19', 'P7-J19', 'P8-J19', 'P9-J19', 'P1-J18', 'P2-J18', 'P3-J18', 'P4-J18', 'P5-J18', 'P6-J18', 'P7-J18', 'P8-J18', 'P9-J18', 'P1-J17', 'P2-J17', 'P3-J17', 'P4-J17', 'P5-J17', 'P6-J17', 'P7-J17', 'P8-J17', 'P9-J17', 'P1-J16', 'P2-J16', 'P3-J16', 'P4-J16', 'P5-J16', 'P6-J16', 'P7-J16', 'P8-J16', 'P9-J16', 'P1-J15', 'P2-J15', 'P3-J15', 'P4-J15', 'P5-J15', 'P6-J15', 'P7-J15', 'P8-J15', 'P9-J15', 'P1-J14', 'P2-J14', 'P3-J14', 'P4-J14', 'P5-J14', 'P6-J14', 'P7-J14', 'P8-J14', 'P9-J14', 'P1-J13', 'P2-J13', 'P3-J13', 'P4-J13', 'P5-J13', 'P6-J13', 'P7-J13', 'P8-J13', 'P9-J13', 'P1-J12', 'P2-J12', 'P3-J12', 'P4-J12', 'P5-J12', 'P6-J12', 'P7-J12', 'P8-J12', 'P9-J12', 'P1-J11', 'P2-J11', 'P3-J11', 'P4-J11', 'P5-J11', 'P6-J11', 'P7-J11', 'P8-J11', 'P9-J11', 'P1-J10', 'P2-J10', 'P3-J10', 'P4-J10', 'P5-J10', 'P6-J10', 'P7-J10', 'P8-J10', 'P9-J10', 'P1-J9', 'P2-J9', 'P3-J9', 'P4-J9', 'P5-J9', 'P6-J9', 'P7-J9', 'P8-J9', 'P9-J9', 'P1-J8', 'P2-J8', 'P3-J8', 'P4-J8', 'P5-J8', 'P6-J8', 'P7-J8', 'P8-J8', 'P9-J8', 'P1-J7', 'P2-J7', 'P3-J7', 'P4-J7', 'P5-J7', 'P6-J7', 'P7-J7', 'P8-J7', 'P9-J7', 'P1-J6', 'P2-J6', 'P3-J6', 'P4-J6', 'P5-J6', 'P6-J6', 'P7-J6', 'P8-J6', 'P9-J6', 'P1-J5', 'P2-J5', 'P3-J5', 'P4-J5', 'P5-J5', 'P6-J5', 'P7-J5', 'P8-J5', 'P9-J5', 'P1-J4', 'P2-J4', 'P3-J4', 'P4-J4', 'P5-J4', 'P6-J4', 'P7-J4', 'P8-J4', 'P9-J4', 'P1-J3', 'P2-J3', 'P3-J3', 'P4-J3', 'P5-J3', 'P6-J3', 'P7-J3', 'P8-J3', 'P9-J3', 'P1-K3', 'P2-K3', 'P3-K3', 'P4-K3', 'P5-K3', 'P6-K3', 'P7-K3', 'P8-K3', 'P9-K3', 'P1-K4', 'P2-K4', 'P3-K4', 'P4-K4', 'P5-K4', 'P6-K4', 'P7-K4', 'P8-K4', 'P9-K4', 'P1-K5', 'P2-K5', 'P3-K5', 'P4-K5', 'P5-K5', 'P6-K5', 'P7-K5', 'P8-K5', 'P9-K5', 'P1-K6', 'P2-K6', 'P3-K6', 'P4-K6', 'P5-K6', 'P6-K6', 'P7-K6', 'P8-K6', 'P9-K6', 'P1-K7', 'P2-K7', 'P3-K7', 'P4-K7', 'P5-K7', 'P6-K7', 'P7-K7', 'P8-K7', 'P9-K7', 'P1-K8', 'P2-K8', 'P3-K8', 'P4-K8', 'P5-K8', 'P6-K8', 'P7-K8', 'P8-K8', 'P9-K8', 'P1-K9', 'P2-K9', 'P3-K9', 'P4-K9', 'P5-K9', 'P6-K9', 'P7-K9', 'P8-K9', 'P9-K9', 'P1-K10', 'P2-K10', 'P3-K10', 'P4-K10', 'P5-K10', 'P6-K10', 'P7-K10', 'P8-K10', 'P9-K10', 'P1-K11', 'P2-K11', 'P3-K11', 'P4-K11', 'P5-K11', 'P6-K11', 'P7-K11', 'P8-K11', 'P9-K11', 'P1-K12', 'P2-K12', 'P3-K12', 'P4-K12', 'P5-K12', 'P6-K12', 'P7-K12', 'P8-K12', 'P9-K12', 'P1-K13', 'P2-K13', 'P3-K13', 'P4-K13', 'P5-K13', 'P6-K13', 'P7-K13', 'P8-K13', 'P9-K13', 'P1-K14', 'P2-K14', 'P3-K14', 'P4-K14', 'P5-K14', 'P6-K14', 'P7-K14', 'P8-K14', 'P9-K14', 'P1-K15', 'P2-K15', 'P3-K15', 'P4-K15', 'P5-K15', 'P6-K15', 'P7-K15', 'P8-K15', 'P9-K15', 'P1-K16', 'P2-K16', 'P3-K16', 'P4-K16', 'P5-K16', 'P6-K16', 'P7-K16', 'P8-K16', 'P9-K16', 'P1-K17', 'P2-K17', 'P3-K17', 'P4-K17', 'P5-K17', 'P6-K17', 'P7-K17', 'P8-K17', 'P9-K17', 'P1-K18', 'P2-K18', 'P3-K18', 'P4-K18', 'P5-K18', 'P6-K18', 'P7-K18', 'P8-K18', 'P9-K18', 'P1-K19', 'P2-K19', 'P3-K19', 'P4-K19', 'P5-K19', 'P6-K19', 'P7-K19', 'P8-K19', 'P9-K19', 'P1-K20', 'P2-K20', 'P3-K20', 'P4-K20', 'P5-K20', 'P6-K20', 'P7-K20', 'P8-K20', 'P9-K20', 'P1-K21', 'P2-K21', 'P3-K21', 'P4-K21', 'P5-K21', 'P6-K21', 'P7-K21', 'P8-K21', 'P9-K21', 'P1-K22', 'P2-K22', 'P3-K22', 'P4-K22', 'P5-K22', 'P6-K22', 'P7-K22', 'P8-K22', 'P9-K22', 'P1-L22', 'P2-L22', 'P3-L22', 'P4-L22', 'P5-L22', 'P6-L22', 'P7-L22', 'P8-L22', 'P9-L22', 'P1-L21', 'P2-L21', 'P3-L21', 'P4-L21', 'P5-L21', 'P6-L21', 'P7-L21', 'P8-L21', 'P9-L21', 'P1-L20', 'P2-L20', 'P3-L20', 'P4-L20', 'P5-L20', 'P6-L20', 'P7-L20', 'P8-L20', 'P9-L20', 'P1-L19', 'P2-L19', 'P3-L19', 'P4-L19', 'P5-L19', 'P6-L19', 'P7-L19', 'P8-L19', 'P9-L19', 'P1-L18', 'P2-L18', 'P3-L18', 'P4-L18', 'P5-L18', 'P6-L18', 'P7-L18', 'P8-L18', 'P9-L18', 'P1-L17', 'P2-L17', 'P3-L17', 'P4-L17', 'P5-L17', 'P6-L17', 'P7-L17', 'P8-L17', 'P9-L17', 'P1-L16', 'P2-L16', 'P3-L16', 'P4-L16', 'P5-L16', 'P6-L16', 'P7-L16', 'P8-L16', 'P9-L16', 'P1-L15', 'P2-L15', 'P3-L15', 'P4-L15', 'P5-L15', 'P6-L15', 'P7-L15', 'P8-L15', 'P9-L15', 'P1-L14', 'P2-L14', 'P3-L14', 'P4-L14', 'P5-L14', 'P6-L14', 'P7-L14', 'P8-L14', 'P9-L14', 'P1-L13', 'P2-L13', 'P3-L13', 'P4-L13', 'P5-L13', 'P6-L13', 'P7-L13', 'P8-L13', 'P9-L13', 'P1-L12', 'P2-L12', 'P3-L12', 'P4-L12', 'P5-L12', 'P6-L12', 'P7-L12', 'P8-L12', 'P9-L12', 'P1-L11', 'P2-L11', 'P3-L11', 'P4-L11', 'P5-L11', 'P6-L11', 'P7-L11', 'P8-L11', 'P9-L11', 'P1-L10', 'P2-L10', 'P3-L10', 'P4-L10', 'P5-L10', 'P6-L10', 'P7-L10', 'P8-L10', 'P9-L10', 'P1-L9', 'P2-L9', 'P3-L9', 'P4-L9', 'P5-L9', 'P6-L9', 'P7-L9', 'P8-L9', 'P9-L9', 'P1-L8', 'P2-L8', 'P3-L8', 'P4-L8', 'P5-L8', 'P6-L8', 'P7-L8', 'P8-L8', 'P9-L8', 'P1-L7', 'P2-L7', 'P3-L7', 'P4-L7', 'P5-L7', 'P6-L7', 'P7-L7', 'P8-L7', 'P9-L7', 'P1-L6', 'P2-L6', 'P3-L6', 'P4-L6', 'P5-L6', 'P6-L6', 'P7-L6', 'P8-L6', 'P9-L6', 'P1-L5', 'P2-L5', 'P3-L5', 'P4-L5', 'P5-L5', 'P6-L5', 'P7-L5', 'P8-L5', 'P9-L5', 'P1-L4', 'P2-L4', 'P3-L4', 'P4-L4', 'P5-L4', 'P6-L4', 'P7-L4', 'P8-L4', 'P9-L4', 'P1-L3', 'P2-L3', 'P3-L3', 'P4-L3', 'P5-L3', 'P6-L3', 'P7-L3', 'P8-L3', 'P9-L3', 'P1-M3', 'P2-M3', 'P3-M3', 'P4-M3', 'P5-M3', 'P6-M3', 'P7-M3', 'P8-M3', 'P9-M3', 'P1-M4', 'P2-M4', 'P3-M4', 'P4-M4', 'P5-M4', 'P6-M4', 'P7-M4', 'P8-M4', 'P9-M4', 'P1-M5', 'P2-M5', 'P3-M5', 'P4-M5', 'P5-M5', 'P6-M5', 'P7-M5', 'P8-M5', 'P9-M5', 'P1-M6', 'P2-M6', 'P3-M6', 'P4-M6', 'P5-M6', 'P6-M6', 'P7-M6', 'P8-M6', 'P9-M6', 'P1-M7', 'P2-M7', 'P3-M7', 'P4-M7', 'P5-M7', 'P6-M7', 'P7-M7', 'P8-M7', 'P9-M7', 'P1-M8', 'P2-M8', 'P3-M8', 'P4-M8', 'P5-M8', 'P6-M8', 'P7-M8', 'P8-M8', 'P9-M8', 'P1-M9', 'P2-M9', 'P3-M9', 'P4-M9', 'P5-M9', 'P6-M9', 'P7-M9', 'P8-M9', 'P9-M9', 'P1-M10', 'P2-M10', 'P3-M10', 'P4-M10', 'P5-M10', 'P6-M10', 'P7-M10', 'P8-M10', 'P9-M10', 'P1-M11', 'P2-M11', 'P3-M11', 'P4-M11', 'P5-M11', 'P6-M11', 'P7-M11', 'P8-M11', 'P9-M11', 'P1-M12', 'P2-M12', 'P3-M12', 'P4-M12', 'P5-M12', 'P6-M12', 'P7-M12', 'P8-M12', 'P9-M12', 'P1-M13', 'P2-M13', 'P3-M13', 'P4-M13', 'P5-M13', 'P6-M13', 'P7-M13', 'P8-M13', 'P9-M13', 'P1-M14', 'P2-M14', 'P3-M14', 'P4-M14', 'P5-M14', 'P6-M14', 'P7-M14', 'P8-M14', 'P9-M14', 'P1-M15', 'P2-M15', 'P3-M15', 'P4-M15', 'P5-M15', 'P6-M15', 'P7-M15', 'P8-M15', 'P9-M15', 'P1-M16', 'P2-M16', 'P3-M16', 'P4-M16', 'P5-M16', 'P6-M16', 'P7-M16', 'P8-M16', 'P9-M16', 'P1-M17', 'P2-M17', 'P3-M17', 'P4-M17', 'P5-M17', 'P6-M17', 'P7-M17', 'P8-M17', 'P9-M17', 'P1-M18', 'P2-M18', 'P3-M18', 'P4-M18', 'P5-M18', 'P6-M18', 'P7-M18', 'P8-M18', 'P9-M18', 'P1-M19', 'P2-M19', 'P3-M19', 'P4-M19', 'P5-M19', 'P6-M19', 'P7-M19', 'P8-M19', 'P9-M19', 'P1-M20', 'P2-M20', 'P3-M20', 'P4-M20', 'P5-M20', 'P6-M20', 'P7-M20', 'P8-M20', 'P9-M20', 'P1-M21', 'P2-M21', 'P3-M21', 'P4-M21', 'P5-M21', 'P6-M21', 'P7-M21', 'P8-M21', 'P9-M21', 'P1-M22', 'P2-M22', 'P3-M22', 'P4-M22', 'P5-M22', 'P6-M22', 'P7-M22', 'P8-M22', 'P9-M22', 'P1-N22', 'P2-N22', 'P3-N22', 'P4-N22', 'P5-N22', 'P6-N22', 'P7-N22', 'P8-N22', 'P9-N22', 'P1-N21', 'P2-N21', 'P3-N21', 'P4-N21', 'P5-N21', 'P6-N21', 'P7-N21', 'P8-N21', 'P9-N21', 'P1-N20', 'P2-N20', 'P3-N20', 'P4-N20', 'P5-N20', 'P6-N20', 'P7-N20', 'P8-N20', 'P9-N20', 'P1-N19', 'P2-N19', 'P3-N19', 'P4-N19', 'P5-N19', 'P6-N19', 'P7-N19', 'P8-N19', 'P9-N19', 'P1-N18', 'P2-N18', 'P3-N18', 'P4-N18', 'P5-N18', 'P6-N18', 'P7-N18', 'P8-N18', 'P9-N18', 'P1-N17', 'P2-N17', 'P3-N17', 'P4-N17', 'P5-N17', 'P6-N17', 'P7-N17', 'P8-N17', 'P9-N17', 'P1-N16', 'P2-N16', 'P3-N16', 'P4-N16', 'P5-N16', 'P6-N16', 'P7-N16', 'P8-N16', 'P9-N16', 'P1-N15', 'P2-N15', 'P3-N15', 'P4-N15', 'P5-N15', 'P6-N15', 'P7-N15', 'P8-N15', 'P9-N15', 'P1-N14', 'P2-N14', 'P3-N14', 'P4-N14', 'P5-N14', 'P6-N14', 'P7-N14', 'P8-N14', 'P9-N14', 'P1-N13', 'P2-N13', 'P3-N13', 'P4-N13', 'P5-N13', 'P6-N13', 'P7-N13', 'P8-N13', 'P9-N13', 'P1-N12', 'P2-N12', 'P3-N12', 'P4-N12', 'P5-N12', 'P6-N12', 'P7-N12', 'P8-N12', 'P9-N12', 'P1-N11', 'P2-N11', 'P3-N11', 'P4-N11', 'P5-N11', 'P6-N11', 'P7-N11', 'P8-N11', 'P9-N11', 'P1-N10', 'P2-N10', 'P3-N10', 'P4-N10', 'P5-N10', 'P6-N10', 'P7-N10', 'P8-N10', 'P9-N10', 'P1-N9', 'P2-N9', 'P3-N9', 'P4-N9', 'P5-N9', 'P6-N9', 'P7-N9', 'P8-N9', 'P9-N9', 'P1-N8', 'P2-N8', 'P3-N8', 'P4-N8', 'P5-N8', 'P6-N8', 'P7-N8', 'P8-N8', 'P9-N8', 'P1-N7', 'P2-N7', 'P3-N7', 'P4-N7', 'P5-N7', 'P6-N7', 'P7-N7', 'P8-N7', 'P9-N7', 'P1-N6', 'P2-N6', 'P3-N6', 'P4-N6', 'P5-N6', 'P6-N6', 'P7-N6', 'P8-N6', 'P9-N6', 'P1-N5', 'P2-N5', 'P3-N5', 'P4-N5', 'P5-N5', 'P6-N5', 'P7-N5', 'P8-N5', 'P9-N5', 'P1-N4', 'P2-N4', 'P3-N4', 'P4-N4', 'P5-N4', 'P6-N4', 'P7-N4', 'P8-N4', 'P9-N4', 'P1-N3', 'P2-N3', 'P3-N3', 'P4-N3', 'P5-N3', 'P6-N3', 'P7-N3', 'P8-N3', 'P9-N3')\n",
    "plates=[<1 field_type>] experimenters=[{'id': 'Experimenter:zeiss', 'user_name': 'zeiss'}] instruments=[<1 field_type>] images=[<2160 field_type>] structured_annotations={'xml_annotations': [{'description': 'ZEN (blue edition)3.4.91.00000', 'id': 'urn:lsid:allencell.org:Annotation:AcquisitionSoftware', 'value': {}, 'kind': 'xmlannotation'}]}\n",
    "['H3342', 'AF488', 'AF555', 'MT633', 'SYTOG']"
   ]
  },
  {
   "cell_type": "markdown",
   "metadata": {},
   "source": [
    "Understanding of the underlying dask-based data object"
   ]
  },
  {
   "cell_type": "code",
   "execution_count": null,
   "metadata": {},
   "outputs": [],
   "source": [
    "czi.dask_data"
   ]
  }
 ],
 "metadata": {
  "kernelspec": {
   "display_name": "czi_reader",
   "language": "python",
   "name": "python3"
  },
  "language_info": {
   "codemirror_mode": {
    "name": "ipython",
    "version": 3
   },
   "file_extension": ".py",
   "mimetype": "text/x-python",
   "name": "python",
   "nbconvert_exporter": "python",
   "pygments_lexer": "ipython3",
   "version": "3.11.5"
  }
 },
 "nbformat": 4,
 "nbformat_minor": 2
}
